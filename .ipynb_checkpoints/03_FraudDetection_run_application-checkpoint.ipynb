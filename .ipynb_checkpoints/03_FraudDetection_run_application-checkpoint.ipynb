{
 "cells": [
  {
   "cell_type": "markdown",
   "metadata": {},
   "source": [
    "## Flask\n",
    "Our API will be served directly from our container using Flask, a popular Python Web Server.\n",
    "The Flask application, which will call our prediction function, is defined in the `wsgi.py` file."
   ]
  },
  {
   "cell_type": "markdown",
   "metadata": {},
   "source": [
    "As always, we'll first run some imports to make sure all our requirements are there:"
   ]
  },
  {
   "cell_type": "code",
   "execution_count": 1,
   "metadata": {
    "ExecuteTime": {
     "end_time": "2021-04-13T19:39:12.918898Z",
     "start_time": "2021-04-13T19:38:57.226296Z"
    }
   },
   "outputs": [
    {
     "name": "stdout",
     "output_type": "stream",
     "text": [
      "Obtaining file:///opt/app-root/src/FSI-Fraud-Detection-Workshop (from -r requirements.txt (line 2))\n",
      "  Preparing metadata (setup.py) ... \u001b[?25ldone\n",
      "\u001b[?25hRequirement already satisfied: click in /opt/app-root/lib/python3.8/site-packages (from -r requirements.txt (line 5)) (8.0.3)\n",
      "Requirement already satisfied: Sphinx in /opt/app-root/lib/python3.8/site-packages (from -r requirements.txt (line 6)) (4.5.0)\n",
      "Requirement already satisfied: coverage in /opt/app-root/lib/python3.8/site-packages (from -r requirements.txt (line 7)) (6.2)\n",
      "Requirement already satisfied: awscli in /opt/app-root/lib/python3.8/site-packages (from -r requirements.txt (line 8)) (1.20.65)\n",
      "Requirement already satisfied: flake8 in /opt/app-root/lib/python3.8/site-packages (from -r requirements.txt (line 9)) (3.8.4)\n",
      "Requirement already satisfied: python-dotenv>=0.5.1 in /opt/app-root/lib/python3.8/site-packages (from -r requirements.txt (line 10)) (0.20.0)\n",
      "Requirement already satisfied: joblib==1.1.0 in /opt/app-root/lib/python3.8/site-packages (from -r requirements.txt (line 11)) (1.1.0)\n",
      "Requirement already satisfied: bcrypt==3.2.0 in /opt/app-root/lib/python3.8/site-packages (from -r requirements.txt (line 12)) (3.2.0)\n",
      "Requirement already satisfied: defusedxml==0.7.1 in /opt/app-root/lib/python3.8/site-packages (from -r requirements.txt (line 13)) (0.7.1)\n",
      "Requirement already satisfied: Pillow>=9.0.1 in /opt/app-root/lib/python3.8/site-packages (from -r requirements.txt (line 14)) (9.1.0)\n",
      "Requirement already satisfied: pyopenssl==20.0.1 in /opt/app-root/lib/python3.8/site-packages (from -r requirements.txt (line 15)) (20.0.1)\n",
      "Requirement already satisfied: scipy==1.7.1 in /opt/app-root/lib/python3.8/site-packages (from -r requirements.txt (line 16)) (1.7.1)\n",
      "Requirement already satisfied: scikit-learn==1.0.2 in /opt/app-root/lib/python3.8/site-packages (from -r requirements.txt (line 17)) (1.0.2)\n",
      "Requirement already satisfied: tensorflow==2.8.0 in /opt/app-root/lib/python3.8/site-packages (from -r requirements.txt (line 18)) (2.8.0)\n",
      "Requirement already satisfied: keras==2.8.0 in /opt/app-root/lib/python3.8/site-packages (from -r requirements.txt (line 19)) (2.8.0)\n",
      "Requirement already satisfied: six>=1.4.1 in /opt/app-root/lib/python3.8/site-packages (from bcrypt==3.2.0->-r requirements.txt (line 12)) (1.16.0)\n",
      "Requirement already satisfied: cffi>=1.1 in /opt/app-root/lib/python3.8/site-packages (from bcrypt==3.2.0->-r requirements.txt (line 12)) (1.15.0)\n",
      "Requirement already satisfied: cryptography>=3.2 in /opt/app-root/lib/python3.8/site-packages (from pyopenssl==20.0.1->-r requirements.txt (line 15)) (3.4.8)\n",
      "Requirement already satisfied: numpy<1.23.0,>=1.16.5 in /opt/app-root/lib/python3.8/site-packages (from scipy==1.7.1->-r requirements.txt (line 16)) (1.22.3)\n",
      "Requirement already satisfied: threadpoolctl>=2.0.0 in /opt/app-root/lib/python3.8/site-packages (from scikit-learn==1.0.2->-r requirements.txt (line 17)) (3.0.0)\n",
      "Requirement already satisfied: protobuf>=3.9.2 in /opt/app-root/lib/python3.8/site-packages (from tensorflow==2.8.0->-r requirements.txt (line 18)) (3.19.3)\n",
      "Requirement already satisfied: astunparse>=1.6.0 in /opt/app-root/lib/python3.8/site-packages (from tensorflow==2.8.0->-r requirements.txt (line 18)) (1.6.3)\n",
      "Requirement already satisfied: termcolor>=1.1.0 in /opt/app-root/lib/python3.8/site-packages (from tensorflow==2.8.0->-r requirements.txt (line 18)) (1.1.0)\n",
      "Requirement already satisfied: keras-preprocessing>=1.1.1 in /opt/app-root/lib/python3.8/site-packages (from tensorflow==2.8.0->-r requirements.txt (line 18)) (1.1.2)\n",
      "Requirement already satisfied: tensorflow-io-gcs-filesystem>=0.23.1 in /opt/app-root/lib/python3.8/site-packages (from tensorflow==2.8.0->-r requirements.txt (line 18)) (0.23.1)\n",
      "Requirement already satisfied: typing-extensions>=3.6.6 in /opt/app-root/lib/python3.8/site-packages (from tensorflow==2.8.0->-r requirements.txt (line 18)) (4.0.1)\n",
      "Requirement already satisfied: tensorboard<2.9,>=2.8 in /opt/app-root/lib/python3.8/site-packages (from tensorflow==2.8.0->-r requirements.txt (line 18)) (2.8.0)\n",
      "Requirement already satisfied: tf-estimator-nightly==2.8.0.dev2021122109 in /opt/app-root/lib/python3.8/site-packages (from tensorflow==2.8.0->-r requirements.txt (line 18)) (2.8.0.dev2021122109)\n",
      "Requirement already satisfied: grpcio<2.0,>=1.24.3 in /opt/app-root/lib/python3.8/site-packages (from tensorflow==2.8.0->-r requirements.txt (line 18)) (1.43.0)\n",
      "Requirement already satisfied: wrapt>=1.11.0 in /opt/app-root/lib/python3.8/site-packages (from tensorflow==2.8.0->-r requirements.txt (line 18)) (1.12.1)\n",
      "Requirement already satisfied: gast>=0.2.1 in /opt/app-root/lib/python3.8/site-packages (from tensorflow==2.8.0->-r requirements.txt (line 18)) (0.4.0)\n",
      "Requirement already satisfied: h5py>=2.9.0 in /opt/app-root/lib/python3.8/site-packages (from tensorflow==2.8.0->-r requirements.txt (line 18)) (2.10.0)\n",
      "Requirement already satisfied: libclang>=9.0.1 in /opt/app-root/lib/python3.8/site-packages (from tensorflow==2.8.0->-r requirements.txt (line 18)) (12.0.0)\n",
      "Requirement already satisfied: google-pasta>=0.1.1 in /opt/app-root/lib/python3.8/site-packages (from tensorflow==2.8.0->-r requirements.txt (line 18)) (0.2.0)\n",
      "Requirement already satisfied: absl-py>=0.4.0 in /opt/app-root/lib/python3.8/site-packages (from tensorflow==2.8.0->-r requirements.txt (line 18)) (1.0.0)\n",
      "Requirement already satisfied: opt-einsum>=2.3.2 in /opt/app-root/lib/python3.8/site-packages (from tensorflow==2.8.0->-r requirements.txt (line 18)) (3.3.0)\n",
      "Requirement already satisfied: flatbuffers>=1.12 in /opt/app-root/lib/python3.8/site-packages (from tensorflow==2.8.0->-r requirements.txt (line 18)) (1.12)\n",
      "Requirement already satisfied: setuptools in /opt/app-root/lib/python3.8/site-packages (from tensorflow==2.8.0->-r requirements.txt (line 18)) (60.9.3)\n",
      "Requirement already satisfied: sphinxcontrib-serializinghtml>=1.1.5 in /opt/app-root/lib/python3.8/site-packages (from Sphinx->-r requirements.txt (line 6)) (1.1.5)\n",
      "Requirement already satisfied: Jinja2>=2.3 in /opt/app-root/lib/python3.8/site-packages (from Sphinx->-r requirements.txt (line 6)) (2.11.3)\n",
      "Requirement already satisfied: snowballstemmer>=1.1 in /opt/app-root/lib/python3.8/site-packages (from Sphinx->-r requirements.txt (line 6)) (2.2.0)\n",
      "Requirement already satisfied: sphinxcontrib-htmlhelp>=2.0.0 in /opt/app-root/lib/python3.8/site-packages (from Sphinx->-r requirements.txt (line 6)) (2.0.0)\n",
      "Requirement already satisfied: sphinxcontrib-jsmath in /opt/app-root/lib/python3.8/site-packages (from Sphinx->-r requirements.txt (line 6)) (1.0.1)\n",
      "Requirement already satisfied: docutils<0.18,>=0.14 in /opt/app-root/lib/python3.8/site-packages (from Sphinx->-r requirements.txt (line 6)) (0.15.2)\n",
      "Requirement already satisfied: imagesize in /opt/app-root/lib/python3.8/site-packages (from Sphinx->-r requirements.txt (line 6)) (1.3.0)\n",
      "Requirement already satisfied: sphinxcontrib-qthelp in /opt/app-root/lib/python3.8/site-packages (from Sphinx->-r requirements.txt (line 6)) (1.0.3)\n",
      "Requirement already satisfied: sphinxcontrib-devhelp in /opt/app-root/lib/python3.8/site-packages (from Sphinx->-r requirements.txt (line 6)) (1.0.2)\n",
      "Requirement already satisfied: sphinxcontrib-applehelp in /opt/app-root/lib/python3.8/site-packages (from Sphinx->-r requirements.txt (line 6)) (1.0.2)\n",
      "Requirement already satisfied: alabaster<0.8,>=0.7 in /opt/app-root/lib/python3.8/site-packages (from Sphinx->-r requirements.txt (line 6)) (0.7.12)\n",
      "Requirement already satisfied: babel>=1.3 in /opt/app-root/lib/python3.8/site-packages (from Sphinx->-r requirements.txt (line 6)) (2.9.1)\n",
      "Requirement already satisfied: requests>=2.5.0 in /opt/app-root/lib/python3.8/site-packages (from Sphinx->-r requirements.txt (line 6)) (2.27.1)\n",
      "Requirement already satisfied: importlib-metadata>=4.4 in /opt/app-root/lib/python3.8/site-packages (from Sphinx->-r requirements.txt (line 6)) (4.10.0)\n",
      "Requirement already satisfied: Pygments>=2.0 in /opt/app-root/lib/python3.8/site-packages (from Sphinx->-r requirements.txt (line 6)) (2.11.2)\n",
      "Requirement already satisfied: packaging in /opt/app-root/lib/python3.8/site-packages (from Sphinx->-r requirements.txt (line 6)) (21.3)\n",
      "Requirement already satisfied: s3transfer<0.6.0,>=0.5.0 in /opt/app-root/lib/python3.8/site-packages (from awscli->-r requirements.txt (line 8)) (0.5.2)\n",
      "Requirement already satisfied: colorama<0.4.4,>=0.2.5 in /opt/app-root/lib/python3.8/site-packages (from awscli->-r requirements.txt (line 8)) (0.4.3)\n",
      "Requirement already satisfied: botocore==1.21.65 in /opt/app-root/lib/python3.8/site-packages (from awscli->-r requirements.txt (line 8)) (1.21.65)\n",
      "Requirement already satisfied: rsa<4.8,>=3.1.2 in /opt/app-root/lib/python3.8/site-packages (from awscli->-r requirements.txt (line 8)) (4.7.2)\n",
      "Requirement already satisfied: PyYAML<5.5,>=3.10 in /opt/app-root/lib/python3.8/site-packages (from awscli->-r requirements.txt (line 8)) (5.4.1)\n",
      "Requirement already satisfied: jmespath<1.0.0,>=0.7.1 in /opt/app-root/lib/python3.8/site-packages (from botocore==1.21.65->awscli->-r requirements.txt (line 8)) (0.10.0)\n",
      "Requirement already satisfied: python-dateutil<3.0.0,>=2.1 in /opt/app-root/lib/python3.8/site-packages (from botocore==1.21.65->awscli->-r requirements.txt (line 8)) (2.8.2)\n",
      "Requirement already satisfied: urllib3<1.27,>=1.25.4 in /opt/app-root/lib/python3.8/site-packages (from botocore==1.21.65->awscli->-r requirements.txt (line 8)) (1.26.5)\n",
      "Requirement already satisfied: pyflakes<2.3.0,>=2.2.0 in /opt/app-root/lib/python3.8/site-packages (from flake8->-r requirements.txt (line 9)) (2.2.0)\n",
      "Requirement already satisfied: pycodestyle<2.7.0,>=2.6.0a1 in /opt/app-root/lib/python3.8/site-packages (from flake8->-r requirements.txt (line 9)) (2.6.0)\n",
      "Requirement already satisfied: mccabe<0.7.0,>=0.6.0 in /opt/app-root/lib/python3.8/site-packages (from flake8->-r requirements.txt (line 9)) (0.6.1)\n",
      "Requirement already satisfied: wheel<1.0,>=0.23.0 in /opt/app-root/lib/python3.8/site-packages (from astunparse>=1.6.0->tensorflow==2.8.0->-r requirements.txt (line 18)) (0.37.1)\n",
      "Requirement already satisfied: pytz>=2015.7 in /opt/app-root/lib/python3.8/site-packages (from babel>=1.3->Sphinx->-r requirements.txt (line 6)) (2021.3)\n",
      "Requirement already satisfied: pycparser in /opt/app-root/lib/python3.8/site-packages (from cffi>=1.1->bcrypt==3.2.0->-r requirements.txt (line 12)) (2.21)\n",
      "Requirement already satisfied: zipp>=0.5 in /opt/app-root/lib/python3.8/site-packages (from importlib-metadata>=4.4->Sphinx->-r requirements.txt (line 6)) (3.7.0)\n",
      "Requirement already satisfied: MarkupSafe>=0.23 in /opt/app-root/lib/python3.8/site-packages (from Jinja2>=2.3->Sphinx->-r requirements.txt (line 6)) (1.1.1)\n",
      "Requirement already satisfied: charset-normalizer~=2.0.0 in /opt/app-root/lib/python3.8/site-packages (from requests>=2.5.0->Sphinx->-r requirements.txt (line 6)) (2.0.10)\n",
      "Requirement already satisfied: certifi>=2017.4.17 in /opt/app-root/lib/python3.8/site-packages (from requests>=2.5.0->Sphinx->-r requirements.txt (line 6)) (2021.10.8)\n",
      "Requirement already satisfied: idna<4,>=2.5 in /opt/app-root/lib/python3.8/site-packages (from requests>=2.5.0->Sphinx->-r requirements.txt (line 6)) (3.3)\n",
      "Requirement already satisfied: pyasn1>=0.1.3 in /opt/app-root/lib/python3.8/site-packages (from rsa<4.8,>=3.1.2->awscli->-r requirements.txt (line 8)) (0.4.8)\n",
      "Requirement already satisfied: tensorboard-plugin-wit>=1.6.0 in /opt/app-root/lib/python3.8/site-packages (from tensorboard<2.9,>=2.8->tensorflow==2.8.0->-r requirements.txt (line 18)) (1.8.1)\n",
      "Requirement already satisfied: google-auth-oauthlib<0.5,>=0.4.1 in /opt/app-root/lib/python3.8/site-packages (from tensorboard<2.9,>=2.8->tensorflow==2.8.0->-r requirements.txt (line 18)) (0.4.6)\n",
      "Requirement already satisfied: werkzeug>=0.11.15 in /opt/app-root/lib/python3.8/site-packages (from tensorboard<2.9,>=2.8->tensorflow==2.8.0->-r requirements.txt (line 18)) (2.0.2)\n",
      "Requirement already satisfied: tensorboard-data-server<0.7.0,>=0.6.0 in /opt/app-root/lib/python3.8/site-packages (from tensorboard<2.9,>=2.8->tensorflow==2.8.0->-r requirements.txt (line 18)) (0.6.1)\n",
      "Requirement already satisfied: markdown>=2.6.8 in /opt/app-root/lib/python3.8/site-packages (from tensorboard<2.9,>=2.8->tensorflow==2.8.0->-r requirements.txt (line 18)) (3.3.6)\n",
      "Requirement already satisfied: google-auth<3,>=1.6.3 in /opt/app-root/lib/python3.8/site-packages (from tensorboard<2.9,>=2.8->tensorflow==2.8.0->-r requirements.txt (line 18)) (1.35.0)\n",
      "Requirement already satisfied: pyparsing!=3.0.5,>=2.0.2 in /opt/app-root/lib/python3.8/site-packages (from packaging->Sphinx->-r requirements.txt (line 6)) (3.0.6)\n",
      "Requirement already satisfied: pyasn1-modules>=0.2.1 in /opt/app-root/lib/python3.8/site-packages (from google-auth<3,>=1.6.3->tensorboard<2.9,>=2.8->tensorflow==2.8.0->-r requirements.txt (line 18)) (0.2.8)\n",
      "Requirement already satisfied: cachetools<5.0,>=2.0.0 in /opt/app-root/lib/python3.8/site-packages (from google-auth<3,>=1.6.3->tensorboard<2.9,>=2.8->tensorflow==2.8.0->-r requirements.txt (line 18)) (4.2.4)\n",
      "Requirement already satisfied: requests-oauthlib>=0.7.0 in /opt/app-root/lib/python3.8/site-packages (from google-auth-oauthlib<0.5,>=0.4.1->tensorboard<2.9,>=2.8->tensorflow==2.8.0->-r requirements.txt (line 18)) (1.3.0)\n",
      "Requirement already satisfied: oauthlib>=3.0.0 in /opt/app-root/lib/python3.8/site-packages (from requests-oauthlib>=0.7.0->google-auth-oauthlib<0.5,>=0.4.1->tensorboard<2.9,>=2.8->tensorflow==2.8.0->-r requirements.txt (line 18)) (3.1.1)\n",
      "Installing collected packages: src\n",
      "  Attempting uninstall: src\n",
      "    Found existing installation: src 0.1.0\n",
      "    Uninstalling src-0.1.0:\n",
      "      Successfully uninstalled src-0.1.0\n",
      "  Running setup.py develop for src\n",
      "Successfully installed src-0.1.0\n"
     ]
    }
   ],
   "source": [
    "import sys\n",
    "!{sys.executable} -m pip install -r requirements.txt"
   ]
  },
  {
   "cell_type": "markdown",
   "metadata": {},
   "source": [
    "Now that we have everything in place, we can launch the Flask application.\n",
    "\n",
    "(Please ignore the CUDA errors of warning if you don't have any GPU).\n",
    "\n",
    "This cell will be in a **permanent running state**. That's normal as the webserver process will keep running. When you are **finished** with the test you can just select the cell, and click on the **Stop button** (next to Run)."
   ]
  },
  {
   "cell_type": "code",
   "execution_count": null,
   "metadata": {
    "ExecuteTime": {
     "end_time": "2021-04-13T20:22:18.706055Z",
     "start_time": "2021-04-13T20:12:31.112873Z"
    }
   },
   "outputs": [
    {
     "name": "stdout",
     "output_type": "stream",
     "text": [
      " * Serving Flask app \"wsgi.py\" (lazy loading)\n",
      " * Environment: development\n",
      " * Debug mode: on\n",
      " * Running on http://127.0.0.1:5000/ (Press CTRL+C to quit)\n",
      " * Restarting with watchdog (inotify)\n",
      " * Debugger is active!\n",
      " * Debugger PIN: 122-592-528\n",
      "Loading model 4638\n",
      "2022-04-03 08:13:54.937485: W tensorflow/stream_executor/platform/default/dso_loader.cc:64] Could not load dynamic library 'libcuda.so.1'; dlerror: libcuda.so.1: cannot open shared object file: No such file or directory; LD_LIBRARY_PATH: /usr/local/nvidia/lib:/usr/local/nvidia/lib64\n",
      "2022-04-03 08:13:54.937528: W tensorflow/stream_executor/cuda/cuda_driver.cc:269] failed call to cuInit: UNKNOWN ERROR (303)\n",
      "2022-04-03 08:13:54.937556: I tensorflow/stream_executor/cuda/cuda_diagnostics.cc:156] kernel driver does not appear to be running on this host (jupyterhub-nb-skasmani-40redhat-2ecom): /proc/driver/nvidia/version does not exist\n",
      "2022-04-03 08:13:54.937784: I tensorflow/core/platform/cpu_feature_guard.cc:151] This TensorFlow binary is optimized with oneAPI Deep Neural Network Library (oneDNN) to use the following CPU instructions in performance-critical operations:  AVX2 AVX512F FMA\n",
      "To enable them in other operations, rebuild TensorFlow with the appropriate compiler flags.\n",
      "Loaded model\n",
      "Models have just loaded!!!!\n",
      "Loading model 4641\n",
      "2022-04-03 08:13:56.363787: W tensorflow/stream_executor/platform/default/dso_loader.cc:64] Could not load dynamic library 'libcuda.so.1'; dlerror: libcuda.so.1: cannot open shared object file: No such file or directory; LD_LIBRARY_PATH: /usr/local/nvidia/lib:/usr/local/nvidia/lib64\n",
      "2022-04-03 08:13:56.363821: W tensorflow/stream_executor/cuda/cuda_driver.cc:269] failed call to cuInit: UNKNOWN ERROR (303)\n",
      "2022-04-03 08:13:56.363974: I tensorflow/stream_executor/cuda/cuda_diagnostics.cc:156] kernel driver does not appear to be running on this host (jupyterhub-nb-skasmani-40redhat-2ecom): /proc/driver/nvidia/version does not exist\n",
      "2022-04-03 08:13:56.364199: I tensorflow/core/platform/cpu_feature_guard.cc:151] This TensorFlow binary is optimized with oneAPI Deep Neural Network Library (oneDNN) to use the following CPU instructions in performance-critical operations:  AVX2 AVX512F FMA\n",
      "To enable them in other operations, rebuild TensorFlow with the appropriate compiler flags.\n",
      "Loaded model\n",
      "Models have just loaded!!!!\n",
      "Step1: Loading models\n",
      "[77627, -7.139060068, 2.773081604, -6.757845069, 4.446455974, -5.464428185, -1.713401451, -6.485365409, 3.409394799, -3.053492714, -6.260705515, 2.394167666, -6.16353738, 0.602850521, -5.606346429, 0.206621734, -6.52508104, -11.40836754, -4.693977736, 2.431274492, -0.616949301, 1.303250309, -0.016118152, -0.876669888, 0.382229801, -1.054623888, -0.614606037, -0.766848112, 0.409423944, 106.9]\n",
      "<class 'list'>\n",
      "Step1 finished!!!!\n",
      "Step2: Scaled the input data.\n",
      "/opt/app-root/lib64/python3.8/site-packages/sklearn/base.py:450: UserWarning: X does not have valid feature names, but StandardScaler was fitted with feature names\n",
      "  warnings.warn(\n",
      "[[ -0.36191958  -3.64480926   1.67932663  -4.45693957   3.14044952\n",
      "   -3.95902967  -1.28607794  -5.24243016   2.85460083  -2.77936363\n",
      "   -5.7498442    2.34558765  -6.16847441   0.60571404  -5.84851026\n",
      "    0.22573854  -7.44658601 -13.43210847  -5.60023766   2.98668034\n",
      "   -0.80027287   1.77428181  -0.02221048  -1.40388658   0.63111091\n",
      "   -2.02315386  -1.27451822  -1.89987047   1.24036783   0.07416602]]\n",
      "Step2 finished!!!!\n",
      "Step3:  Perform prediction!!!\n",
      "Step3 finished!!!!\n",
      "1\n",
      "Predicted Class name:  Fraud\n",
      "{'Predicted value': '1', 'Predicted Class Label': 'Fraud', 'Predicted Class Probability': [[1.0]]}\n",
      "127.0.0.1 - - [03/Apr/2022 08:14:06] \"POST /predictions HTTP/1.1\" 200 -\n",
      " * Detected change in '/opt/app-root/src/NLP-Consumer-Complain-Classification/.~wsgi.py', reloading\n",
      " * Detected change in '/opt/app-root/src/NLP-Consumer-Complain-Classification/.~wsgi.py', reloading\n",
      " * Detected change in '/opt/app-root/src/NLP-Consumer-Complain-Classification/.~wsgi.py', reloading\n",
      " * Detected change in '/opt/app-root/src/NLP-Consumer-Complain-Classification/.~wsgi.py', reloading\n",
      " * Detected change in '/opt/app-root/src/NLP-Consumer-Complain-Classification/wsgi.py', reloading\n",
      " * Detected change in '/opt/app-root/src/NLP-Consumer-Complain-Classification/wsgi.py', reloading\n",
      " * Detected change in '/opt/app-root/src/NLP-Consumer-Complain-Classification/.~wsgi.py', reloading\n",
      " * Restarting with watchdog (inotify)\n",
      " * Debugger is active!\n",
      " * Debugger PIN: 122-592-528\n",
      "Loading model 4961\n",
      "2022-04-03 08:14:50.965548: W tensorflow/stream_executor/platform/default/dso_loader.cc:64] Could not load dynamic library 'libcuda.so.1'; dlerror: libcuda.so.1: cannot open shared object file: No such file or directory; LD_LIBRARY_PATH: /usr/local/nvidia/lib:/usr/local/nvidia/lib64\n",
      "2022-04-03 08:14:50.965583: W tensorflow/stream_executor/cuda/cuda_driver.cc:269] failed call to cuInit: UNKNOWN ERROR (303)\n",
      "2022-04-03 08:14:50.965734: I tensorflow/stream_executor/cuda/cuda_diagnostics.cc:156] kernel driver does not appear to be running on this host (jupyterhub-nb-skasmani-40redhat-2ecom): /proc/driver/nvidia/version does not exist\n",
      "2022-04-03 08:14:50.965949: I tensorflow/core/platform/cpu_feature_guard.cc:151] This TensorFlow binary is optimized with oneAPI Deep Neural Network Library (oneDNN) to use the following CPU instructions in performance-critical operations:  AVX2 AVX512F FMA\n",
      "To enable them in other operations, rebuild TensorFlow with the appropriate compiler flags.\n",
      "Loaded model\n",
      "Models have just loaded!!!!\n",
      " * Detected change in '/opt/app-root/src/FSI-Fraud-Detection-Inference/gunicorn_config-Copy1.py', reloading\n",
      " * Detected change in '/opt/app-root/src/FSI-Fraud-Detection-Inference/gunicorn_config-Copy1.py', reloading\n",
      " * Detected change in '/opt/app-root/src/FSI-Fraud-Detection-Inference/gunicorn_config-Copy1.py', reloading\n",
      " * Detected change in '/opt/app-root/src/FSI-Fraud-Detection-Inference/prediction-Copy1.py', reloading\n",
      " * Detected change in '/opt/app-root/src/FSI-Fraud-Detection-Inference/prediction-Copy1.py', reloading\n",
      " * Detected change in '/opt/app-root/src/FSI-Fraud-Detection-Inference/prediction-Copy1.py', reloading\n",
      " * Detected change in '/opt/app-root/src/FSI-Fraud-Detection-Inference/wsgi-Copy1.py', reloading\n",
      " * Detected change in '/opt/app-root/src/FSI-Fraud-Detection-Inference/wsgi-Copy1.py', reloading\n",
      " * Detected change in '/opt/app-root/src/FSI-Fraud-Detection-Inference/wsgi-Copy1.py', reloading\n",
      " * Restarting with watchdog (inotify)\n",
      " * Debugger is active!\n",
      " * Debugger PIN: 122-592-528\n",
      "Loading model 5122\n",
      "2022-04-03 08:15:51.676199: W tensorflow/stream_executor/platform/default/dso_loader.cc:64] Could not load dynamic library 'libcuda.so.1'; dlerror: libcuda.so.1: cannot open shared object file: No such file or directory; LD_LIBRARY_PATH: /usr/local/nvidia/lib:/usr/local/nvidia/lib64\n",
      "2022-04-03 08:15:51.676239: W tensorflow/stream_executor/cuda/cuda_driver.cc:269] failed call to cuInit: UNKNOWN ERROR (303)\n",
      "2022-04-03 08:15:51.676418: I tensorflow/stream_executor/cuda/cuda_diagnostics.cc:156] kernel driver does not appear to be running on this host (jupyterhub-nb-skasmani-40redhat-2ecom): /proc/driver/nvidia/version does not exist\n",
      "2022-04-03 08:15:51.676661: I tensorflow/core/platform/cpu_feature_guard.cc:151] This TensorFlow binary is optimized with oneAPI Deep Neural Network Library (oneDNN) to use the following CPU instructions in performance-critical operations:  AVX2 AVX512F FMA\n",
      "To enable them in other operations, rebuild TensorFlow with the appropriate compiler flags.\n",
      "Loaded model\n",
      "Models have just loaded!!!!\n"
     ]
    }
   ],
   "source": [
    "!FLASK_ENV=development FLASK_APP=wsgi.py flask run"
   ]
  },
  {
   "cell_type": "markdown",
   "metadata": {},
   "source": [
    "Once the models have been loaded, our server is ready to take requests. Leave this notebook running,and open `04_FraudDetection_test_application.ipynb`."
   ]
  },
  {
   "cell_type": "code",
   "execution_count": null,
   "metadata": {},
   "outputs": [],
   "source": []
  }
 ],
 "metadata": {
  "finalized": {
   "timestamp": 1618345356814,
   "trusted": true
  },
  "kernelspec": {
   "display_name": "Python 3 (ipykernel)",
   "language": "python",
   "name": "python3"
  },
  "language_info": {
   "codemirror_mode": {
    "name": "ipython",
    "version": 3
   },
   "file_extension": ".py",
   "mimetype": "text/x-python",
   "name": "python",
   "nbconvert_exporter": "python",
   "pygments_lexer": "ipython3",
   "version": "3.8.8"
  },
  "toc": {
   "base_numbering": 1,
   "nav_menu": {},
   "number_sections": true,
   "sideBar": true,
   "skip_h1_title": false,
   "title_cell": "Table of Contents",
   "title_sidebar": "Contents",
   "toc_cell": false,
   "toc_position": {},
   "toc_section_display": true,
   "toc_window_display": false
  }
 },
 "nbformat": 4,
 "nbformat_minor": 4
}
