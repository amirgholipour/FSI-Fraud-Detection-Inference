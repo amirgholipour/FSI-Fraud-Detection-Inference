{
 "cells": [
  {
   "cell_type": "markdown",
   "metadata": {},
   "source": [
    "## Flask\n",
    "Our API will be served directly from our container using Flask, a popular Python Web Server.\n",
    "The Flask application, which will call our prediction function, is defined in the `wsgi.py` file."
   ]
  },
  {
   "cell_type": "markdown",
   "metadata": {},
   "source": [
    "As always, we'll first run some imports to make sure all our requirements are there:"
   ]
  },
  {
   "cell_type": "code",
   "execution_count": 2,
   "metadata": {
    "ExecuteTime": {
     "end_time": "2021-04-13T19:39:12.918898Z",
     "start_time": "2021-04-13T19:38:57.226296Z"
    }
   },
   "outputs": [
    {
     "name": "stdout",
     "output_type": "stream",
     "text": [
      "Obtaining file:///opt/app-root/src/FSI-Fraud-Detection-Inference (from -r requirements.txt (line 2))\n",
      "  Preparing metadata (setup.py) ... \u001b[?25ldone\n",
      "\u001b[?25hRequirement already satisfied: click in /opt/app-root/lib/python3.8/site-packages (from -r requirements.txt (line 5)) (8.0.3)\n",
      "Requirement already satisfied: Sphinx in /opt/app-root/lib/python3.8/site-packages (from -r requirements.txt (line 6)) (4.5.0)\n",
      "Requirement already satisfied: coverage in /opt/app-root/lib/python3.8/site-packages (from -r requirements.txt (line 7)) (6.2)\n",
      "Requirement already satisfied: awscli in /opt/app-root/lib/python3.8/site-packages (from -r requirements.txt (line 8)) (1.20.65)\n",
      "Requirement already satisfied: flake8 in /opt/app-root/lib/python3.8/site-packages (from -r requirements.txt (line 9)) (3.8.4)\n",
      "Requirement already satisfied: python-dotenv>=0.5.1 in /opt/app-root/lib/python3.8/site-packages (from -r requirements.txt (line 10)) (0.20.0)\n",
      "Requirement already satisfied: joblib==1.1.0 in /opt/app-root/lib/python3.8/site-packages (from -r requirements.txt (line 11)) (1.1.0)\n",
      "Requirement already satisfied: bcrypt==3.2.0 in /opt/app-root/lib/python3.8/site-packages (from -r requirements.txt (line 12)) (3.2.0)\n",
      "Requirement already satisfied: defusedxml==0.7.1 in /opt/app-root/lib/python3.8/site-packages (from -r requirements.txt (line 13)) (0.7.1)\n",
      "Requirement already satisfied: Pillow>=9.0.1 in /opt/app-root/lib/python3.8/site-packages (from -r requirements.txt (line 14)) (9.1.0)\n",
      "Requirement already satisfied: pyopenssl==20.0.1 in /opt/app-root/lib/python3.8/site-packages (from -r requirements.txt (line 15)) (20.0.1)\n",
      "Requirement already satisfied: scipy==1.7.1 in /opt/app-root/lib/python3.8/site-packages (from -r requirements.txt (line 16)) (1.7.1)\n",
      "Requirement already satisfied: scikit-learn==1.0.2 in /opt/app-root/lib/python3.8/site-packages (from -r requirements.txt (line 17)) (1.0.2)\n",
      "Requirement already satisfied: tensorflow==2.8.0 in /opt/app-root/lib/python3.8/site-packages (from -r requirements.txt (line 18)) (2.8.0)\n",
      "Requirement already satisfied: keras==2.8.0 in /opt/app-root/lib/python3.8/site-packages (from -r requirements.txt (line 19)) (2.8.0)\n",
      "Requirement already satisfied: cffi>=1.1 in /opt/app-root/lib/python3.8/site-packages (from bcrypt==3.2.0->-r requirements.txt (line 12)) (1.15.0)\n",
      "Requirement already satisfied: six>=1.4.1 in /opt/app-root/lib/python3.8/site-packages (from bcrypt==3.2.0->-r requirements.txt (line 12)) (1.16.0)\n",
      "Requirement already satisfied: cryptography>=3.2 in /opt/app-root/lib/python3.8/site-packages (from pyopenssl==20.0.1->-r requirements.txt (line 15)) (3.4.8)\n",
      "Requirement already satisfied: numpy<1.23.0,>=1.16.5 in /opt/app-root/lib/python3.8/site-packages (from scipy==1.7.1->-r requirements.txt (line 16)) (1.22.3)\n",
      "Requirement already satisfied: threadpoolctl>=2.0.0 in /opt/app-root/lib/python3.8/site-packages (from scikit-learn==1.0.2->-r requirements.txt (line 17)) (3.0.0)\n",
      "Requirement already satisfied: astunparse>=1.6.0 in /opt/app-root/lib/python3.8/site-packages (from tensorflow==2.8.0->-r requirements.txt (line 18)) (1.6.3)\n",
      "Requirement already satisfied: opt-einsum>=2.3.2 in /opt/app-root/lib/python3.8/site-packages (from tensorflow==2.8.0->-r requirements.txt (line 18)) (3.3.0)\n",
      "Requirement already satisfied: libclang>=9.0.1 in /opt/app-root/lib/python3.8/site-packages (from tensorflow==2.8.0->-r requirements.txt (line 18)) (12.0.0)\n",
      "Requirement already satisfied: tensorboard<2.9,>=2.8 in /opt/app-root/lib/python3.8/site-packages (from tensorflow==2.8.0->-r requirements.txt (line 18)) (2.8.0)\n",
      "Requirement already satisfied: protobuf>=3.9.2 in /opt/app-root/lib/python3.8/site-packages (from tensorflow==2.8.0->-r requirements.txt (line 18)) (3.19.3)\n",
      "Requirement already satisfied: termcolor>=1.1.0 in /opt/app-root/lib/python3.8/site-packages (from tensorflow==2.8.0->-r requirements.txt (line 18)) (1.1.0)\n",
      "Requirement already satisfied: tensorflow-io-gcs-filesystem>=0.23.1 in /opt/app-root/lib/python3.8/site-packages (from tensorflow==2.8.0->-r requirements.txt (line 18)) (0.23.1)\n",
      "Requirement already satisfied: setuptools in /opt/app-root/lib/python3.8/site-packages (from tensorflow==2.8.0->-r requirements.txt (line 18)) (60.9.3)\n",
      "Requirement already satisfied: wrapt>=1.11.0 in /opt/app-root/lib/python3.8/site-packages (from tensorflow==2.8.0->-r requirements.txt (line 18)) (1.12.1)\n",
      "Requirement already satisfied: gast>=0.2.1 in /opt/app-root/lib/python3.8/site-packages (from tensorflow==2.8.0->-r requirements.txt (line 18)) (0.4.0)\n",
      "Requirement already satisfied: grpcio<2.0,>=1.24.3 in /opt/app-root/lib/python3.8/site-packages (from tensorflow==2.8.0->-r requirements.txt (line 18)) (1.43.0)\n",
      "Requirement already satisfied: tf-estimator-nightly==2.8.0.dev2021122109 in /opt/app-root/lib/python3.8/site-packages (from tensorflow==2.8.0->-r requirements.txt (line 18)) (2.8.0.dev2021122109)\n",
      "Requirement already satisfied: typing-extensions>=3.6.6 in /opt/app-root/lib/python3.8/site-packages (from tensorflow==2.8.0->-r requirements.txt (line 18)) (4.0.1)\n",
      "Requirement already satisfied: h5py>=2.9.0 in /opt/app-root/lib/python3.8/site-packages (from tensorflow==2.8.0->-r requirements.txt (line 18)) (2.10.0)\n",
      "Requirement already satisfied: google-pasta>=0.1.1 in /opt/app-root/lib/python3.8/site-packages (from tensorflow==2.8.0->-r requirements.txt (line 18)) (0.2.0)\n",
      "Requirement already satisfied: flatbuffers>=1.12 in /opt/app-root/lib/python3.8/site-packages (from tensorflow==2.8.0->-r requirements.txt (line 18)) (1.12)\n",
      "Requirement already satisfied: absl-py>=0.4.0 in /opt/app-root/lib/python3.8/site-packages (from tensorflow==2.8.0->-r requirements.txt (line 18)) (1.0.0)\n",
      "Requirement already satisfied: keras-preprocessing>=1.1.1 in /opt/app-root/lib/python3.8/site-packages (from tensorflow==2.8.0->-r requirements.txt (line 18)) (1.1.2)\n",
      "Requirement already satisfied: sphinxcontrib-devhelp in /opt/app-root/lib/python3.8/site-packages (from Sphinx->-r requirements.txt (line 6)) (1.0.2)\n",
      "Requirement already satisfied: Jinja2>=2.3 in /opt/app-root/lib/python3.8/site-packages (from Sphinx->-r requirements.txt (line 6)) (2.11.3)\n",
      "Requirement already satisfied: requests>=2.5.0 in /opt/app-root/lib/python3.8/site-packages (from Sphinx->-r requirements.txt (line 6)) (2.27.1)\n",
      "Requirement already satisfied: importlib-metadata>=4.4 in /opt/app-root/lib/python3.8/site-packages (from Sphinx->-r requirements.txt (line 6)) (4.10.0)\n",
      "Requirement already satisfied: babel>=1.3 in /opt/app-root/lib/python3.8/site-packages (from Sphinx->-r requirements.txt (line 6)) (2.9.1)\n",
      "Requirement already satisfied: sphinxcontrib-serializinghtml>=1.1.5 in /opt/app-root/lib/python3.8/site-packages (from Sphinx->-r requirements.txt (line 6)) (1.1.5)\n",
      "Requirement already satisfied: docutils<0.18,>=0.14 in /opt/app-root/lib/python3.8/site-packages (from Sphinx->-r requirements.txt (line 6)) (0.15.2)\n",
      "Requirement already satisfied: snowballstemmer>=1.1 in /opt/app-root/lib/python3.8/site-packages (from Sphinx->-r requirements.txt (line 6)) (2.2.0)\n",
      "Requirement already satisfied: sphinxcontrib-jsmath in /opt/app-root/lib/python3.8/site-packages (from Sphinx->-r requirements.txt (line 6)) (1.0.1)\n",
      "Requirement already satisfied: Pygments>=2.0 in /opt/app-root/lib/python3.8/site-packages (from Sphinx->-r requirements.txt (line 6)) (2.11.2)\n",
      "Requirement already satisfied: alabaster<0.8,>=0.7 in /opt/app-root/lib/python3.8/site-packages (from Sphinx->-r requirements.txt (line 6)) (0.7.12)\n",
      "Requirement already satisfied: imagesize in /opt/app-root/lib/python3.8/site-packages (from Sphinx->-r requirements.txt (line 6)) (1.3.0)\n",
      "Requirement already satisfied: sphinxcontrib-applehelp in /opt/app-root/lib/python3.8/site-packages (from Sphinx->-r requirements.txt (line 6)) (1.0.2)\n",
      "Requirement already satisfied: sphinxcontrib-qthelp in /opt/app-root/lib/python3.8/site-packages (from Sphinx->-r requirements.txt (line 6)) (1.0.3)\n",
      "Requirement already satisfied: packaging in /opt/app-root/lib/python3.8/site-packages (from Sphinx->-r requirements.txt (line 6)) (21.3)\n",
      "Requirement already satisfied: sphinxcontrib-htmlhelp>=2.0.0 in /opt/app-root/lib/python3.8/site-packages (from Sphinx->-r requirements.txt (line 6)) (2.0.0)\n",
      "Requirement already satisfied: botocore==1.21.65 in /opt/app-root/lib/python3.8/site-packages (from awscli->-r requirements.txt (line 8)) (1.21.65)\n",
      "Requirement already satisfied: rsa<4.8,>=3.1.2 in /opt/app-root/lib/python3.8/site-packages (from awscli->-r requirements.txt (line 8)) (4.7.2)\n",
      "Requirement already satisfied: PyYAML<5.5,>=3.10 in /opt/app-root/lib/python3.8/site-packages (from awscli->-r requirements.txt (line 8)) (5.4.1)\n",
      "Requirement already satisfied: s3transfer<0.6.0,>=0.5.0 in /opt/app-root/lib/python3.8/site-packages (from awscli->-r requirements.txt (line 8)) (0.5.2)\n",
      "Requirement already satisfied: colorama<0.4.4,>=0.2.5 in /opt/app-root/lib/python3.8/site-packages (from awscli->-r requirements.txt (line 8)) (0.4.3)\n",
      "Requirement already satisfied: jmespath<1.0.0,>=0.7.1 in /opt/app-root/lib/python3.8/site-packages (from botocore==1.21.65->awscli->-r requirements.txt (line 8)) (0.10.0)\n",
      "Requirement already satisfied: python-dateutil<3.0.0,>=2.1 in /opt/app-root/lib/python3.8/site-packages (from botocore==1.21.65->awscli->-r requirements.txt (line 8)) (2.8.2)\n",
      "Requirement already satisfied: urllib3<1.27,>=1.25.4 in /opt/app-root/lib/python3.8/site-packages (from botocore==1.21.65->awscli->-r requirements.txt (line 8)) (1.26.5)\n",
      "Requirement already satisfied: mccabe<0.7.0,>=0.6.0 in /opt/app-root/lib/python3.8/site-packages (from flake8->-r requirements.txt (line 9)) (0.6.1)\n",
      "Requirement already satisfied: pycodestyle<2.7.0,>=2.6.0a1 in /opt/app-root/lib/python3.8/site-packages (from flake8->-r requirements.txt (line 9)) (2.6.0)\n",
      "Requirement already satisfied: pyflakes<2.3.0,>=2.2.0 in /opt/app-root/lib/python3.8/site-packages (from flake8->-r requirements.txt (line 9)) (2.2.0)\n",
      "Requirement already satisfied: wheel<1.0,>=0.23.0 in /opt/app-root/lib/python3.8/site-packages (from astunparse>=1.6.0->tensorflow==2.8.0->-r requirements.txt (line 18)) (0.37.1)\n",
      "Requirement already satisfied: pytz>=2015.7 in /opt/app-root/lib/python3.8/site-packages (from babel>=1.3->Sphinx->-r requirements.txt (line 6)) (2021.3)\n",
      "Requirement already satisfied: pycparser in /opt/app-root/lib/python3.8/site-packages (from cffi>=1.1->bcrypt==3.2.0->-r requirements.txt (line 12)) (2.21)\n",
      "Requirement already satisfied: zipp>=0.5 in /opt/app-root/lib/python3.8/site-packages (from importlib-metadata>=4.4->Sphinx->-r requirements.txt (line 6)) (3.7.0)\n",
      "Requirement already satisfied: MarkupSafe>=0.23 in /opt/app-root/lib/python3.8/site-packages (from Jinja2>=2.3->Sphinx->-r requirements.txt (line 6)) (1.1.1)\n",
      "Requirement already satisfied: idna<4,>=2.5 in /opt/app-root/lib/python3.8/site-packages (from requests>=2.5.0->Sphinx->-r requirements.txt (line 6)) (3.3)\n",
      "Requirement already satisfied: certifi>=2017.4.17 in /opt/app-root/lib/python3.8/site-packages (from requests>=2.5.0->Sphinx->-r requirements.txt (line 6)) (2021.10.8)\n",
      "Requirement already satisfied: charset-normalizer~=2.0.0 in /opt/app-root/lib/python3.8/site-packages (from requests>=2.5.0->Sphinx->-r requirements.txt (line 6)) (2.0.10)\n",
      "Requirement already satisfied: pyasn1>=0.1.3 in /opt/app-root/lib/python3.8/site-packages (from rsa<4.8,>=3.1.2->awscli->-r requirements.txt (line 8)) (0.4.8)\n",
      "Requirement already satisfied: tensorboard-plugin-wit>=1.6.0 in /opt/app-root/lib/python3.8/site-packages (from tensorboard<2.9,>=2.8->tensorflow==2.8.0->-r requirements.txt (line 18)) (1.8.1)\n",
      "Requirement already satisfied: google-auth<3,>=1.6.3 in /opt/app-root/lib/python3.8/site-packages (from tensorboard<2.9,>=2.8->tensorflow==2.8.0->-r requirements.txt (line 18)) (1.35.0)\n",
      "Requirement already satisfied: google-auth-oauthlib<0.5,>=0.4.1 in /opt/app-root/lib/python3.8/site-packages (from tensorboard<2.9,>=2.8->tensorflow==2.8.0->-r requirements.txt (line 18)) (0.4.6)\n",
      "Requirement already satisfied: tensorboard-data-server<0.7.0,>=0.6.0 in /opt/app-root/lib/python3.8/site-packages (from tensorboard<2.9,>=2.8->tensorflow==2.8.0->-r requirements.txt (line 18)) (0.6.1)\n",
      "Requirement already satisfied: werkzeug>=0.11.15 in /opt/app-root/lib/python3.8/site-packages (from tensorboard<2.9,>=2.8->tensorflow==2.8.0->-r requirements.txt (line 18)) (2.0.2)\n",
      "Requirement already satisfied: markdown>=2.6.8 in /opt/app-root/lib/python3.8/site-packages (from tensorboard<2.9,>=2.8->tensorflow==2.8.0->-r requirements.txt (line 18)) (3.3.6)\n",
      "Requirement already satisfied: pyparsing!=3.0.5,>=2.0.2 in /opt/app-root/lib/python3.8/site-packages (from packaging->Sphinx->-r requirements.txt (line 6)) (3.0.6)\n",
      "Requirement already satisfied: pyasn1-modules>=0.2.1 in /opt/app-root/lib/python3.8/site-packages (from google-auth<3,>=1.6.3->tensorboard<2.9,>=2.8->tensorflow==2.8.0->-r requirements.txt (line 18)) (0.2.8)\n",
      "Requirement already satisfied: cachetools<5.0,>=2.0.0 in /opt/app-root/lib/python3.8/site-packages (from google-auth<3,>=1.6.3->tensorboard<2.9,>=2.8->tensorflow==2.8.0->-r requirements.txt (line 18)) (4.2.4)\n",
      "Requirement already satisfied: requests-oauthlib>=0.7.0 in /opt/app-root/lib/python3.8/site-packages (from google-auth-oauthlib<0.5,>=0.4.1->tensorboard<2.9,>=2.8->tensorflow==2.8.0->-r requirements.txt (line 18)) (1.3.0)\n",
      "Requirement already satisfied: oauthlib>=3.0.0 in /opt/app-root/lib/python3.8/site-packages (from requests-oauthlib>=0.7.0->google-auth-oauthlib<0.5,>=0.4.1->tensorboard<2.9,>=2.8->tensorflow==2.8.0->-r requirements.txt (line 18)) (3.1.1)\n",
      "Installing collected packages: src\n",
      "  Attempting uninstall: src\n",
      "    Found existing installation: src 0.1.0\n",
      "    Uninstalling src-0.1.0:\n",
      "      Successfully uninstalled src-0.1.0\n",
      "  Running setup.py develop for src\n",
      "Successfully installed src-0.1.0\n"
     ]
    }
   ],
   "source": [
    "import sys\n",
    "!{sys.executable} -m pip install -r requirements.txt"
   ]
  },
  {
   "cell_type": "markdown",
   "metadata": {},
   "source": [
    "Now that we have everything in place, we can launch the Flask application.\n",
    "\n",
    "(Please ignore the CUDA errors of warning if you don't have any GPU).\n",
    "\n",
    "This cell will be in a **permanent running state**. That's normal as the webserver process will keep running. When you are **finished** with the test you can just select the cell, and click on the **Stop button** (next to Run)."
   ]
  },
  {
   "cell_type": "code",
   "execution_count": 3,
   "metadata": {
    "ExecuteTime": {
     "end_time": "2021-04-13T20:22:18.706055Z",
     "start_time": "2021-04-13T20:12:31.112873Z"
    }
   },
   "outputs": [
    {
     "name": "stdout",
     "output_type": "stream",
     "text": [
      " * Serving Flask app \"wsgi.py\" (lazy loading)\n",
      " * Environment: development\n",
      " * Debug mode: on\n",
      "Traceback (most recent call last):\n",
      "  File \"/opt/app-root/bin/flask\", line 8, in <module>\n",
      "    sys.exit(main())\n",
      "  File \"/opt/app-root/lib64/python3.8/site-packages/flask/cli.py\", line 967, in main\n",
      "    cli.main(args=sys.argv[1:], prog_name=\"python -m flask\" if as_module else None)\n",
      "  File \"/opt/app-root/lib64/python3.8/site-packages/flask/cli.py\", line 586, in main\n",
      "    return super(FlaskGroup, self).main(*args, **kwargs)\n",
      "  File \"/opt/app-root/lib64/python3.8/site-packages/click/core.py\", line 1053, in main\n",
      "    rv = self.invoke(ctx)\n",
      "  File \"/opt/app-root/lib64/python3.8/site-packages/click/core.py\", line 1659, in invoke\n",
      "    return _process_result(sub_ctx.command.invoke(sub_ctx))\n",
      "  File \"/opt/app-root/lib64/python3.8/site-packages/click/core.py\", line 1395, in invoke\n",
      "    return ctx.invoke(self.callback, **ctx.params)\n",
      "  File \"/opt/app-root/lib64/python3.8/site-packages/click/core.py\", line 754, in invoke\n",
      "    return __callback(*args, **kwargs)\n",
      "  File \"/opt/app-root/lib64/python3.8/site-packages/click/decorators.py\", line 84, in new_func\n",
      "    return ctx.invoke(f, obj, *args, **kwargs)\n",
      "  File \"/opt/app-root/lib64/python3.8/site-packages/click/core.py\", line 754, in invoke\n",
      "    return __callback(*args, **kwargs)\n",
      "  File \"/opt/app-root/lib64/python3.8/site-packages/flask/cli.py\", line 852, in run_command\n",
      "    run_simple(\n",
      "  File \"/opt/app-root/lib64/python3.8/site-packages/werkzeug/serving.py\", line 984, in run_simple\n",
      "    s.bind(server_address)\n",
      "OSError: [Errno 98] Address already in use\n",
      "Loading model 5956\n",
      "2022-04-03 08:19:41.007142: W tensorflow/stream_executor/platform/default/dso_loader.cc:64] Could not load dynamic library 'libcuda.so.1'; dlerror: libcuda.so.1: cannot open shared object file: No such file or directory; LD_LIBRARY_PATH: /usr/local/nvidia/lib:/usr/local/nvidia/lib64\n",
      "2022-04-03 08:19:41.007184: W tensorflow/stream_executor/cuda/cuda_driver.cc:269] failed call to cuInit: UNKNOWN ERROR (303)\n",
      "2022-04-03 08:19:41.007212: I tensorflow/stream_executor/cuda/cuda_diagnostics.cc:156] kernel driver does not appear to be running on this host (jupyterhub-nb-skasmani-40redhat-2ecom): /proc/driver/nvidia/version does not exist\n",
      "2022-04-03 08:19:41.007443: I tensorflow/core/platform/cpu_feature_guard.cc:151] This TensorFlow binary is optimized with oneAPI Deep Neural Network Library (oneDNN) to use the following CPU instructions in performance-critical operations:  AVX2 AVX512F FMA\n",
      "To enable them in other operations, rebuild TensorFlow with the appropriate compiler flags.\n",
      "Loaded model\n",
      "Models have just loaded!!!!\n"
     ]
    }
   ],
   "source": [
    "!FLASK_ENV=development FLASK_APP=wsgi.py flask run"
   ]
  },
  {
   "cell_type": "markdown",
   "metadata": {},
   "source": [
    "Once the models have been loaded, our server is ready to take requests. Leave this notebook running,and open `04_FraudDetection_test_application.ipynb`."
   ]
  },
  {
   "cell_type": "code",
   "execution_count": null,
   "metadata": {},
   "outputs": [],
   "source": []
  }
 ],
 "metadata": {
  "finalized": {
   "timestamp": 1618345356814,
   "trusted": true
  },
  "kernelspec": {
   "display_name": "Python 3 (ipykernel)",
   "language": "python",
   "name": "python3"
  },
  "language_info": {
   "codemirror_mode": {
    "name": "ipython",
    "version": 3
   },
   "file_extension": ".py",
   "mimetype": "text/x-python",
   "name": "python",
   "nbconvert_exporter": "python",
   "pygments_lexer": "ipython3",
   "version": "3.8.8"
  },
  "toc": {
   "base_numbering": 1,
   "nav_menu": {},
   "number_sections": true,
   "sideBar": true,
   "skip_h1_title": false,
   "title_cell": "Table of Contents",
   "title_sidebar": "Contents",
   "toc_cell": false,
   "toc_position": {},
   "toc_section_display": true,
   "toc_window_display": false
  }
 },
 "nbformat": 4,
 "nbformat_minor": 4
}
